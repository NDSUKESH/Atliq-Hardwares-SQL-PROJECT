{
  "nbformat": 4,
  "nbformat_minor": 0,
  "metadata": {
    "colab": {
      "provenance": [],
      "authorship_tag": "ABX9TyNrDZxauwLrvytXdLEi/w+v",
      "include_colab_link": true
    },
    "kernelspec": {
      "name": "python3",
      "display_name": "Python 3"
    },
    "language_info": {
      "name": "python"
    }
  },
  "cells": [
    {
      "cell_type": "markdown",
      "metadata": {
        "id": "view-in-github",
        "colab_type": "text"
      },
      "source": [
        "<a href=\"https://colab.research.google.com/github/NDSUKESH/Atliq-Hardwares-SQL-PROJECT/blob/main/sql_practice.ipynb\" target=\"_parent\"><img src=\"https://colab.research.google.com/assets/colab-badge.svg\" alt=\"Open In Colab\"/></a>"
      ]
    },
    {
      "cell_type": "code",
      "execution_count": 1,
      "metadata": {
        "id": "aWcFHZU26qCz"
      },
      "outputs": [],
      "source": [
        "import sqlite3"
      ]
    },
    {
      "cell_type": "code",
      "source": [
        "conn=sqlite3.connect(\"data.db\")"
      ],
      "metadata": {
        "id": "o6FZV32r8qyr"
      },
      "execution_count": 2,
      "outputs": []
    },
    {
      "cell_type": "code",
      "source": [
        "conn.execute('''CREATE TABLE employees (\n",
        "  id INT PRIMARY KEY,\n",
        "  name VARCHAR(50),\n",
        "  age INT,\n",
        "  department VARCHAR(50),\n",
        "  salary INT\n",
        ");''')\n",
        "conn.commit()"
      ],
      "metadata": {
        "id": "3ySISJTw8uE4"
      },
      "execution_count": 3,
      "outputs": []
    },
    {
      "cell_type": "code",
      "source": [
        "conn.execute('''INSERT INTO employees (id, name, age, department, salary)\n",
        "VALUES\n",
        "  (1, 'Alice', 25, 'Sales', 50000),\n",
        "  (2, 'Bob', 30, 'Marketing', 60000),\n",
        "  (3, 'Charlie', 35, 'Sales', 70000),\n",
        "  (4, 'Dave', 40, 'Finance', 80000),\n",
        "  (5, 'Emma', 45, 'Marketing', 90000),\n",
        "  (6, 'Frank', 50, 'Finance', 100000);''')\n",
        "conn.commit()"
      ],
      "metadata": {
        "id": "7qvVMEQy83b5"
      },
      "execution_count": 4,
      "outputs": []
    },
    {
      "cell_type": "code",
      "source": [
        "a=conn.execute(\"select * from employees\")"
      ],
      "metadata": {
        "id": "KbztnkP08_aN"
      },
      "execution_count": 5,
      "outputs": []
    },
    {
      "cell_type": "code",
      "source": [
        "for i in a:\n",
        "  print(i)"
      ],
      "metadata": {
        "colab": {
          "base_uri": "https://localhost:8080/"
        },
        "id": "SUssuo9Z9EOj",
        "outputId": "c989fba7-ba5b-4782-bd9d-01418c6c11c9"
      },
      "execution_count": 6,
      "outputs": [
        {
          "output_type": "stream",
          "name": "stdout",
          "text": [
            "(1, 'Alice', 25, 'Sales', 50000)\n",
            "(2, 'Bob', 30, 'Marketing', 60000)\n",
            "(3, 'Charlie', 35, 'Sales', 70000)\n",
            "(4, 'Dave', 40, 'Finance', 80000)\n",
            "(5, 'Emma', 45, 'Marketing', 90000)\n",
            "(6, 'Frank', 50, 'Finance', 100000)\n"
          ]
        }
      ]
    },
    {
      "cell_type": "markdown",
      "source": [
        "1.How many employees are there in each department?"
      ],
      "metadata": {
        "id": "_RGou8Dr9IkB"
      }
    },
    {
      "cell_type": "code",
      "source": [
        "a=conn.execute(\"select department,count(*) from employees group by department\")\n",
        "for r in a:\n",
        "  print(r)"
      ],
      "metadata": {
        "colab": {
          "base_uri": "https://localhost:8080/"
        },
        "id": "NLmKVKV89G8o",
        "outputId": "1e1883b8-64e4-4e2e-8253-e5fb7d858302"
      },
      "execution_count": 7,
      "outputs": [
        {
          "output_type": "stream",
          "name": "stdout",
          "text": [
            "('Finance', 2)\n",
            "('Marketing', 2)\n",
            "('Sales', 2)\n"
          ]
        }
      ]
    },
    {
      "cell_type": "code",
      "source": [],
      "metadata": {
        "id": "AXBlJkCeLO6R"
      },
      "execution_count": null,
      "outputs": []
    },
    {
      "cell_type": "markdown",
      "source": [
        "2.What is the average salary of employees in the Sales department?"
      ],
      "metadata": {
        "id": "dEr-pQC1LBH_"
      }
    },
    {
      "cell_type": "code",
      "source": [
        "a=conn.execute(\"select avg(salary) from employees where department='Sales';\")"
      ],
      "metadata": {
        "id": "5CGNRhGE9YxS"
      },
      "execution_count": 15,
      "outputs": []
    },
    {
      "cell_type": "code",
      "source": [
        "for i in a:\n",
        "  print(i)"
      ],
      "metadata": {
        "colab": {
          "base_uri": "https://localhost:8080/"
        },
        "id": "XoCYibdKLFKO",
        "outputId": "22f4ba74-b130-4c89-ba2e-0d4d90ea2b7a"
      },
      "execution_count": 16,
      "outputs": [
        {
          "output_type": "stream",
          "name": "stdout",
          "text": [
            "(60000.0,)\n"
          ]
        }
      ]
    },
    {
      "cell_type": "markdown",
      "source": [
        "3.Which department has the highest total salary?"
      ],
      "metadata": {
        "id": "JI5nxbzhLYLA"
      }
    },
    {
      "cell_type": "code",
      "source": [
        "a=conn.execute(\"select department,avg(salary) as avgs from employees group by department order by avgs desc limit 1;\")\n",
        "for i in a:\n",
        "  print(i)"
      ],
      "metadata": {
        "colab": {
          "base_uri": "https://localhost:8080/"
        },
        "id": "YDGY-W7RLIsI",
        "outputId": "adb77fcc-8c78-4aae-86d8-45ae54a671c9"
      },
      "execution_count": 18,
      "outputs": [
        {
          "output_type": "stream",
          "name": "stdout",
          "text": [
            "('Finance', 90000.0)\n"
          ]
        }
      ]
    },
    {
      "cell_type": "markdown",
      "source": [
        "4.What is the total salary of all employees under 35 years old?"
      ],
      "metadata": {
        "id": "tfO7zeOaMIN7"
      }
    },
    {
      "cell_type": "code",
      "source": [
        "a=conn.execute(\"select avg(salary) from employees where age >35;\")\n",
        "for i in a:\n",
        "  print(i)"
      ],
      "metadata": {
        "colab": {
          "base_uri": "https://localhost:8080/"
        },
        "id": "P1BFC_yxLsPq",
        "outputId": "29a4e435-ec1b-4517-ead7-b5853208094f"
      },
      "execution_count": 19,
      "outputs": [
        {
          "output_type": "stream",
          "name": "stdout",
          "text": [
            "(90000.0,)\n"
          ]
        }
      ]
    },
    {
      "cell_type": "markdown",
      "source": [
        "5.What is the name of the oldest employee?"
      ],
      "metadata": {
        "id": "P5vC2l1KMoy3"
      }
    },
    {
      "cell_type": "code",
      "source": [
        "a=conn.execute(\"select name from employees order by age desc limit 1;\")\n",
        "for i in a:\n",
        "  print(i)"
      ],
      "metadata": {
        "colab": {
          "base_uri": "https://localhost:8080/"
        },
        "id": "nZEJTKNvMjLF",
        "outputId": "69eee335-f138-471b-f07f-b3fc2fea7ec1"
      },
      "execution_count": 22,
      "outputs": [
        {
          "output_type": "stream",
          "name": "stdout",
          "text": [
            "('Frank',)\n"
          ]
        }
      ]
    },
    {
      "cell_type": "markdown",
      "source": [
        "6.What is the highest salary of employees under 40 years old?"
      ],
      "metadata": {
        "id": "qOVlNpqCM35p"
      }
    },
    {
      "cell_type": "code",
      "source": [
        "a=conn.execute(\"select name,salary from employees where age < 40 order by salary desc limit 1;\")\n",
        "for i in a:\n",
        "  print(i)"
      ],
      "metadata": {
        "colab": {
          "base_uri": "https://localhost:8080/"
        },
        "id": "i3RU4jMUM0ff",
        "outputId": "84a28ebb-b778-47af-db80-1ff275d20dc7"
      },
      "execution_count": 23,
      "outputs": [
        {
          "output_type": "stream",
          "name": "stdout",
          "text": [
            "('Charlie', 70000)\n"
          ]
        }
      ]
    },
    {
      "cell_type": "markdown",
      "source": [
        "7.What is the average age of employees in the Marketing department?"
      ],
      "metadata": {
        "id": "d889r_jhNMus"
      }
    },
    {
      "cell_type": "code",
      "source": [
        "a=conn.execute(\"select avg(age) from employees where department='Marketing';\")\n",
        "for i in a:\n",
        "  print(i)"
      ],
      "metadata": {
        "colab": {
          "base_uri": "https://localhost:8080/"
        },
        "id": "O3zJR8VgNJhh",
        "outputId": "cc09434b-d1ad-41db-b6f4-6069479add5a"
      },
      "execution_count": 24,
      "outputs": [
        {
          "output_type": "stream",
          "name": "stdout",
          "text": [
            "(37.5,)\n"
          ]
        }
      ]
    },
    {
      "cell_type": "markdown",
      "source": [
        "8.Which department has the fewest employees?"
      ],
      "metadata": {
        "id": "JKEPxz8rOsfG"
      }
    },
    {
      "cell_type": "code",
      "source": [
        "a=conn.execute(\"select department,count(*) as c from employees group by department order by c;\")\n",
        "for i in a:\n",
        "  print(i)"
      ],
      "metadata": {
        "colab": {
          "base_uri": "https://localhost:8080/"
        },
        "id": "zlAD7xgoOqoK",
        "outputId": "b6e7ff57-69c5-4851-ee10-d2072ea8e3ba"
      },
      "execution_count": 28,
      "outputs": [
        {
          "output_type": "stream",
          "name": "stdout",
          "text": [
            "('Finance', 2)\n",
            "('Marketing', 2)\n",
            "('Sales', 2)\n"
          ]
        }
      ]
    },
    {
      "cell_type": "markdown",
      "source": [
        "9.What is the total salary of employees whose name starts with 'A'?"
      ],
      "metadata": {
        "id": "r83VHcKBPGNw"
      }
    },
    {
      "cell_type": "code",
      "source": [
        "a=conn.execute(\"select sum(salary) from employees where name like 'A%';\")\n",
        "for i in a:\n",
        "  print(i)"
      ],
      "metadata": {
        "colab": {
          "base_uri": "https://localhost:8080/"
        },
        "id": "5Q5PxMjIO-cA",
        "outputId": "e877b195-184d-43f9-a47b-4c8366b171cd"
      },
      "execution_count": 30,
      "outputs": [
        {
          "output_type": "stream",
          "name": "stdout",
          "text": [
            "(50000,)\n"
          ]
        }
      ]
    },
    {
      "cell_type": "markdown",
      "source": [
        "10.Which employees have a salary greater than the average salary of their department?"
      ],
      "metadata": {
        "id": "-mUaEgYaPlSU"
      }
    },
    {
      "cell_type": "code",
      "source": [
        "a=conn.execute('''SELECT id, name, department, salary\n",
        "FROM employees\n",
        "WHERE salary > (\n",
        "  SELECT AVG(salary)\n",
        "  FROM employees e2\n",
        "  WHERE e2.department = employees.department);''')"
      ],
      "metadata": {
        "id": "rQKO788IQPdB"
      },
      "execution_count": 35,
      "outputs": []
    },
    {
      "cell_type": "code",
      "source": [
        "for i in a:\n",
        "  print(i)"
      ],
      "metadata": {
        "colab": {
          "base_uri": "https://localhost:8080/"
        },
        "id": "IqZTqdG3Qqe2",
        "outputId": "4d22fef2-0ce5-4b93-db63-bc7079a192c9"
      },
      "execution_count": 36,
      "outputs": [
        {
          "output_type": "stream",
          "name": "stdout",
          "text": [
            "(3, 'Charlie', 'Sales', 70000)\n",
            "(5, 'Emma', 'Marketing', 90000)\n",
            "(6, 'Frank', 'Finance', 100000)\n"
          ]
        }
      ]
    },
    {
      "cell_type": "code",
      "source": [],
      "metadata": {
        "id": "_Vd71kJwRLZD"
      },
      "execution_count": null,
      "outputs": []
    }
  ]
}